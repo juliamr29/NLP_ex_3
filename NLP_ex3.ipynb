{
  "nbformat": 4,
  "nbformat_minor": 0,
  "metadata": {
    "colab": {
      "provenance": []
    },
    "kernelspec": {
      "name": "python3",
      "display_name": "Python 3"
    },
    "language_info": {
      "name": "python"
    }
  },
  "cells": [
    {
      "cell_type": "code",
      "execution_count": null,
      "metadata": {
        "id": "wJllpak_-T9R"
      },
      "outputs": [],
      "source": [
        "from datasets import load_dataset\n",
        "\n",
        "# Load the \"train\" split of the dataset\n",
        "dataset = load_dataset(\"brunokreiner/genius-lyrics\", split=\"train\")\n",
        "\n",
        "\n",
        "# Filter dataset to keep only English lyrics\n",
        "filtered_dataset = dataset.filter(lambda example: example[\"is_english\"])\n",
        "\n",
        "# Keep only the \"lyrics\" column\n",
        "lyrics_only = filtered_dataset.remove_columns(\n",
        "    [col for col in filtered_dataset.column_names if col != \"lyrics\"]\n",
        ")\n",
        "\n",
        "# Create train and validation splits\n",
        "train_val_split = lyrics_only.train_test_split(test_size=0.1, seed=42)  # 10% validation\n",
        "train_set = train_val_split[\"train\"]\n",
        "val_set = train_val_split[\"test\"]\n",
        "\n",
        "print(f\"Train size: {len(train_set)}, Validation size: {len(val_set)}\")"
      ]
    },
    {
      "cell_type": "code",
      "source": [
        "# From the lyrics column, get only the text\n",
        "train_set = train_set['lyrics']\n",
        "val_set = val_set['lyrics']"
      ],
      "metadata": {
        "id": "uh39wz8E4w7J"
      },
      "execution_count": 2,
      "outputs": []
    },
    {
      "cell_type": "code",
      "source": [
        "print(train_set[0:2])"
      ],
      "metadata": {
        "id": "UB9nA72S4Dvl"
      },
      "execution_count": null,
      "outputs": []
    },
    {
      "cell_type": "code",
      "source": [
        "import torch\n",
        "import torch.nn as nn\n",
        "from torch.nn import functional as F\n",
        "import re"
      ],
      "metadata": {
        "id": "rGdRmXWosU2f"
      },
      "execution_count": 7,
      "outputs": []
    },
    {
      "cell_type": "code",
      "source": [
        "# Define hyperparameters\n",
        "batch_size = 16\n",
        "block_size = 32\n",
        "max_iters = 5000\n",
        "eval_interval = 100\n",
        "learning_rate = 1e-3\n",
        "device = 'cuda' if torch.cuda.is_available() else 'mps' if torch.mps.is_available() else 'cpu'\n",
        "eval_iters = 200\n",
        "n_embd = 10\n",
        "dropout = 0.0\n",
        "# ------------\n",
        "# Adjusted hyperparameters for the second and third versions\n",
        "# Second version: batch_size = 16, block_size = 32, max_iters = 7000, n_embd = 32\n",
        "# Third version: batch_size = 32, block_size = 64, max_iters = 10000, n_embd = 64\n",
        "# ------------\n",
        "# Manual seed for reproducibility\n",
        "torch.manual_seed(1337)"
      ],
      "metadata": {
        "id": "vhfYtkdbscqb"
      },
      "execution_count": null,
      "outputs": []
    },
    {
      "cell_type": "code",
      "source": [
        "# Vocabulary and dictionaries\n",
        "# Get all the unique characters that occur in this text\n",
        "# Function to remove non-Latin characters and unwanted symbols\n",
        "def filter_latin_chars(text):\n",
        "    return re.sub(r'[^a-zA-Z\\s]', '', text)\n",
        "\n",
        "# Apply filtering to all the lyrics\n",
        "filtered_train_set = [filter_latin_chars(lyric) for lyric in train_set]\n",
        "filtered_val_set = [filter_latin_chars(lyric) for lyric in val_set]\n",
        "\n",
        "# Remove empty lyrics after filtering (if any)\n",
        "filtered_train_set = [lyric for lyric in filtered_train_set if lyric.strip()]\n",
        "filtered_val_set = [lyric for lyric in filtered_val_set if lyric.strip()]\n",
        "\n",
        "\n",
        "# Recreate the text from the filtered lyrics\n",
        "train_text = \"\".join(filtered_train_set)\n",
        "val_text = \"\".join(filtered_val_set)\n",
        "\n",
        "chars = sorted(list(set((train_text))))\n",
        "vocab_size = len(chars)\n",
        "# Create a mapping from characters to integers\n",
        "stoi = { ch:i for i,ch in enumerate(chars) }\n",
        "itos = { i:ch for i,ch in enumerate(chars) }\n",
        "encode = lambda s: [stoi[c] for c in s] # encoder: take a string, output a list of integers\n",
        "decode = lambda l: ''.join([itos[i] for i in l]) # decoder: take a list of integers, output a string\n"
      ],
      "metadata": {
        "id": "JgjvCl-1sj0c"
      },
      "execution_count": 9,
      "outputs": []
    },
    {
      "cell_type": "code",
      "source": [
        "print(\"\".join(chars))\n",
        "print(vocab_size)"
      ],
      "metadata": {
        "id": "pchKDJFess4Q"
      },
      "execution_count": null,
      "outputs": []
    },
    {
      "cell_type": "code",
      "source": [
        "\n",
        "# Split the dataset\n",
        "n = int(0.9 * len(train_text))  # 90% for training\n",
        "train_text = train_text[:n]\n",
        "val_text = train_text[n:]\n",
        "\n",
        "# Encode text into integer indices\n",
        "train_set = encode(train_text)\n",
        "val_set = encode(val_text)\n",
        "\n",
        "# Convert lists to PyTorch tensors\n",
        "train_set = torch.tensor(train_set, dtype=torch.long)\n",
        "val_set = torch.tensor(val_set, dtype=torch.long)\n",
        "\n",
        "print(f\"Train size: {len(train_set)}, Validation size: {len(val_set)}\")\n",
        "\n"
      ],
      "metadata": {
        "id": "rFMFeDrICSmL"
      },
      "execution_count": null,
      "outputs": []
    },
    {
      "cell_type": "code",
      "source": [
        "# Data loading\n",
        "# Adapt the Andrej's code to the new training data\n",
        "def get_batch(split):\n",
        "    # Select dataset\n",
        "    data = train_set if split == 'train' else val_set\n",
        "    # Sample random starting indices for batch\n",
        "    ix = torch.randint(len(data) - block_size, (batch_size,))\n",
        "    # Directly slice the tensor (no need to encode)\n",
        "    x = torch.stack([data[i:i+block_size] for i in ix])\n",
        "    y = torch.stack([data[i+1:i+block_size+1] for i in ix])\n",
        "    # Move to device\n",
        "    x, y = x.to(device), y.to(device)\n",
        "    return x, y\n",
        "\n",
        "# Test the function\n",
        "print(get_batch('train'))\n",
        "\n"
      ],
      "metadata": {
        "id": "MBjz_VB2s0Mw"
      },
      "execution_count": null,
      "outputs": []
    },
    {
      "cell_type": "code",
      "source": [
        "@torch.no_grad()\n",
        "def estimate_loss():\n",
        "    out = {}\n",
        "    model.eval()\n",
        "    for split in ['train', 'val']:\n",
        "        losses = torch.zeros(eval_iters)\n",
        "        for k in range(eval_iters):\n",
        "            X, Y = get_batch(split)\n",
        "            #print('estimate loss',X.shape, Y.shape)\n",
        "            logits, loss = model(X, Y)\n",
        "            losses[k] = loss.item()\n",
        "        out[split] = losses.mean()\n",
        "    model.train()\n",
        "    return out"
      ],
      "metadata": {
        "id": "onibKXiYs7LO"
      },
      "execution_count": null,
      "outputs": []
    },
    {
      "cell_type": "code",
      "source": [
        "class Head(nn.Module):\n",
        "    \"\"\" one head of self-attention \"\"\"\n",
        "\n",
        "    def __init__(self, head_size):\n",
        "        super().__init__()\n",
        "        self.key = nn.Linear(n_embd, head_size, bias=False)\n",
        "        self.query = nn.Linear(n_embd, head_size, bias=False)\n",
        "        self.value = nn.Linear(n_embd, head_size, bias=False)\n",
        "        self.register_buffer('tril', torch.tril(torch.ones(block_size, block_size)))\n",
        "\n",
        "        self.dropout = nn.Dropout(dropout)\n",
        "\n",
        "    def forward(self, x):\n",
        "        B,T,C = x.shape\n",
        "        k = self.key(x)   # (B,T,hs)\n",
        "        q = self.query(x) # (B,T,hs)\n",
        "        # compute attention scores (\"affinities\")\n",
        "        wei = q @ k.transpose(-2,-1) * C**-0.5 # (B, T, hs) @ (B, hs, T) -> (B, T, T)\n",
        "        wei = wei.masked_fill(self.tril[:T, :T] == 0, float('-inf')) # (B, T, T)\n",
        "        wei = F.softmax(wei, dim=-1) # (B, T, T)\n",
        "        wei = self.dropout(wei)\n",
        "        # perform the weighted aggregation of the values\n",
        "        v = self.value(x) # (B,T,hs)\n",
        "        out = wei @ v # (B, T, T) @ (B, T, hs) -> (B, T, hs)\n",
        "        return out # (B, T, hs)"
      ],
      "metadata": {
        "id": "6nYHJXn-s-MO"
      },
      "execution_count": null,
      "outputs": []
    },
    {
      "cell_type": "code",
      "source": [
        "class BigramLanguageModel(nn.Module):\n",
        "\n",
        "    def __init__(self):\n",
        "        super().__init__()\n",
        "        # each token directly reads off the logits for the next token from a lookup table\n",
        "        self.token_embedding_table = nn.Embedding(vocab_size, n_embd)\n",
        "        self.position_embedding_table = nn.Embedding(block_size, n_embd)\n",
        "        self.sa_head = Head(n_embd) # apply one head of self-attention. (B, T, hs=C)\n",
        "        self.lm_head = nn.Linear(n_embd, vocab_size) # (C, vocab_size)\n",
        "\n",
        "    def forward(self, idx, targets=None):\n",
        "        B, T = idx.shape\n",
        "\n",
        "        # idx and targets are both (B,T) tensor of integers\n",
        "        tok_emb = self.token_embedding_table(idx) # (B,T,C)\n",
        "        pos_emb = self.position_embedding_table(torch.arange(T, device=device)) # (T,C)\n",
        "        x = tok_emb + pos_emb # (B,T,C)\n",
        "        x = self.sa_head(x) # (B,T,C)\n",
        "        logits = self.lm_head(x) # (B,T,vocab_size)\n",
        "\n",
        "        if targets is None:\n",
        "            loss = None\n",
        "        else:\n",
        "            B, T, C = logits.shape # (B,T,C)\n",
        "            logits = logits.view(B*T, C) # (B*T, C)\n",
        "            targets = targets.view(B*T) # (B*T)\n",
        "            loss = F.cross_entropy(logits, targets)\n",
        "\n",
        "        return logits, loss\n",
        "\n",
        "    def generate(self, idx, max_new_tokens):\n",
        "        # idx is (B, T) array of indices in the current context\n",
        "        for _ in range(max_new_tokens):\n",
        "            # crop idx to the last block_size tokens\n",
        "            idx_cond = idx[:, -block_size:]\n",
        "            # get the predictions\n",
        "            logits, loss = self(idx_cond)\n",
        "            # focus only on the last time step\n",
        "            logits = logits[:, -1, :] # becomes (B, C)\n",
        "            # apply softmax to get probabilities\n",
        "            probs = F.softmax(logits, dim=-1) # (B, C)\n",
        "            # sample from the distribution\n",
        "            idx_next = torch.multinomial(probs, num_samples=1) # (B, 1)\n",
        "            # append sampled index to the running sequence\n",
        "            idx = torch.cat((idx, idx_next), dim=1) # (B, T+1)\n",
        "        return idx"
      ],
      "metadata": {
        "id": "jYX2GCNbtBgs"
      },
      "execution_count": null,
      "outputs": []
    },
    {
      "cell_type": "code",
      "source": [
        "model = BigramLanguageModel()\n",
        "m = model.to(device)\n",
        "# Print the number of parameters in the model\n",
        "print(sum(p.numel() for p in m.parameters())/1e6, 'M parameters')\n",
        "\n",
        "# create a PyTorch optimizer\n",
        "optimizer = torch.optim.AdamW(model.parameters(), lr=learning_rate)"
      ],
      "metadata": {
        "id": "nTcGCCu8tMnW"
      },
      "execution_count": null,
      "outputs": []
    },
    {
      "cell_type": "code",
      "source": [
        "# Training\n",
        "for iter in range(max_iters):\n",
        "\n",
        "    # Every once in a while evaluate the loss on train and val sets\n",
        "    if iter % eval_interval == 0 or iter == max_iters - 1:\n",
        "        losses = estimate_loss()\n",
        "        print(f\"step {iter}: train loss {losses['train']:.4f}, val loss {losses['val']:.4f}\")\n",
        "\n",
        "    # Sample a batch of data\n",
        "    xb, yb = get_batch('train')\n",
        "\n",
        "    # Evaluate the loss\n",
        "    logits, loss = model(xb, yb)\n",
        "    optimizer.zero_grad(set_to_none=True)\n",
        "    loss.backward()\n",
        "    optimizer.step()"
      ],
      "metadata": {
        "id": "J6xWqzu7tP_J"
      },
      "execution_count": null,
      "outputs": []
    },
    {
      "cell_type": "code",
      "source": [
        "# Generate the lyrics\n",
        "context = torch.zeros((1, 1), dtype=torch.long, device=device)\n",
        "generated_text = decode(m.generate(context, max_new_tokens=1000)[0].tolist())\n",
        "print(generated_text)"
      ],
      "metadata": {
        "id": "09sswSR6tSwD"
      },
      "execution_count": null,
      "outputs": []
    }
  ]
}